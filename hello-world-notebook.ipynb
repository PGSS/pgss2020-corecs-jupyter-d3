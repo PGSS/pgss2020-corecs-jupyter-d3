{
 "cells": [
  {
   "cell_type": "markdown",
   "metadata": {},
   "source": [
    "In this Jupyter Notebook, I demonstrate the the Python \"Hello World\" program which is a benchmark for the most basic syntax for a basic system function, in this case, printing \"Hello World\" to the screen.\n",
    "\n",
    "Python has one of the simplest \"Hello World\" programs, at just 1 word besides the \"Hello World\" string. [View some other languages' Hello World programs.](https://rosettacode.org/wiki/Hello_world/Text#Java)"
   ]
  },
  {
   "cell_type": "code",
   "execution_count": null,
   "metadata": {},
   "outputs": [],
   "source": [
    "print(\"Hello World\")"
   ]
  },
  {
   "cell_type": "markdown",
   "metadata": {},
   "source": [
    "Please run the snippet of code above and raise your Zoom hand in class when you see the \"Hello World\" output.\n",
    "\n",
    "\\[explain all parts of Hello World program\\]"
   ]
  }
 ],
 "metadata": {
  "kernelspec": {
   "display_name": "Python 3",
   "language": "python",
   "name": "python3"
  },
  "language_info": {
   "codemirror_mode": {
    "name": "ipython",
    "version": 3
   },
   "file_extension": ".py",
   "mimetype": "text/x-python",
   "name": "python",
   "nbconvert_exporter": "python",
   "pygments_lexer": "ipython3",
   "version": "3.7.6"
  }
 },
 "nbformat": 4,
 "nbformat_minor": 4
}
