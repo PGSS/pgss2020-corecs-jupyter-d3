{
 "cells": [
  {
   "cell_type": "markdown",
   "metadata": {},
   "source": [
    "In this Jupyter Notebook, I demonstrate the Python \"Hello World!\" program.\n",
    "\n",
    "Hello World programs are a benchmark for any programming languages. Python has one of the simplest \"Hello World\" programs, at just 1 word besides the \"Hello World\" string and a few bits of syntax. Even Java, another very popular, well-maintained, and amazing programming language has a vastly more complicated Hello World program, see: [View Java and other languages' Hello World programs.](https://rosettacode.org/wiki/Hello_world/Text#Java)"
   ]
  },
  {
   "cell_type": "code",
   "execution_count": 2,
   "metadata": {},
   "outputs": [
    {
     "name": "stdout",
     "output_type": "stream",
     "text": [
      "Hello World\n"
     ]
    }
   ],
   "source": [
    "print(\"Hello World!\")"
   ]
  },
  {
   "cell_type": "markdown",
   "metadata": {},
   "source": [
    "Please run the snippet of code above (click on it and then click the \"Run\" button above) and raise your Zoom hand in class when you see the \"Hello World!\" output right below the code.\n",
    "\n",
    "I will explain each letter and symbol (character) in the code above.\n",
    "\n",
    "* `print` --> this is a function that existing in every Python program. It prints a string, which is a group of characters encapsulated in double quotes.\n",
    "* `(...)` --> parentheses separate the name of the function from the arguments to the function.\n",
    "* `\"Hello World!\"` --> this is the first and only argument to `print`. It's what will appear as output."
   ]
  }
 ],
 "metadata": {
  "kernelspec": {
   "display_name": "Python 3",
   "language": "python",
   "name": "python3"
  },
  "language_info": {
   "codemirror_mode": {
    "name": "ipython",
    "version": 3
   },
   "file_extension": ".py",
   "mimetype": "text/x-python",
   "name": "python",
   "nbconvert_exporter": "python",
   "pygments_lexer": "ipython3",
   "version": "3.7.6"
  }
 },
 "nbformat": 4,
 "nbformat_minor": 4
}
